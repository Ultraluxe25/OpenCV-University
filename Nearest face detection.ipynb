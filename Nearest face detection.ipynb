{
 "cells": [
  {
   "cell_type": "code",
   "execution_count": 6,
   "id": "ac4c8582",
   "metadata": {},
   "outputs": [],
   "source": [
    "\"\"\" This module draw rectangle around the nearest face that would be detected \"\"\"\n",
    "\n",
    "import cv2\n",
    "import dlib\n",
    "import numpy as np\n",
    "\n",
    "\n",
    "def find_nearest_face(faces):\n",
    "    \"\"\"\n",
    "    This function calculates squares of each face detected by webcam\n",
    "    :param faces: Each face that would be detected\n",
    "    :return: Value that has the biggest square among other in list\n",
    "    \"\"\"\n",
    "    squares = [abs(face.right() - face.left()) * abs(face.bottom() - face.top()) for face in faces]\n",
    "    # distances = [np.sqrt((face.right() - face.left()) ** 2 + (face.bottom() - face.top()) ** 2) for face in faces]\n",
    "    # print(distances)\n",
    "    nearest_idx = np.argmax(squares)\n",
    "    return faces[nearest_idx]\n",
    "\n",
    "\n",
    "def draw_rectangle(face, image):\n",
    "    \"\"\"\n",
    "    This function draws rectangle around the nearest face that has the biggest square around it\n",
    "    :param face: List with coordinates around face\n",
    "    :param image: Object that store an image\n",
    "    :return: None\n",
    "    \"\"\"\n",
    "    x, y, w, h = face.left(), face.top(), face.width(), face.height()\n",
    "    cv2.rectangle(img=image, pt1=(x, y), pt2=(x + w, y + h), color=(0, 255, 0), thickness=2)\n",
    "    cv2.imshow(winname='Face Tracking', mat=image)\n",
    "            \n",
    "            \n",
    "def main():\n",
    "    \"\"\"\n",
    "    Function switchs on/off the webcam, launch pretrained model and other function, wait user\n",
    "    \"\"\"\n",
    "    cap = cv2.VideoCapture(0)\n",
    "    cap.set(3, 2160)  # Set width\n",
    "    cap.set(4, 3840)  # Set height\n",
    "    face_detector = dlib.get_frontal_face_detector()\n",
    "    try:\n",
    "        while True:\n",
    "            ret, frame = cap.read()\n",
    "            if not ret:\n",
    "                break\n",
    "\n",
    "            gray = cv2.cvtColor(frame, cv2.COLOR_BGR2GRAY)\n",
    "            faces = face_detector(gray)\n",
    "\n",
    "            if len(faces) > 0:\n",
    "                nearest_face = find_nearest_face(faces)\n",
    "                draw_rectangle(nearest_face, frame)\n",
    "            else:\n",
    "                cv2.imshow('Face Tracking', frame)\n",
    "                \n",
    "            if cv2.waitKey(1) & 0xFF == ord('q'):\n",
    "                break\n",
    "    except Exception as e:\n",
    "        print(f'Exception: {e}')        \n",
    "    finally:\n",
    "        # Free up resources\n",
    "        cap.release()\n",
    "        cv2.destroyAllWindows()\n",
    "\n",
    "            \n",
    "if __name__ == '__main__':\n",
    "    main()"
   ]
  },
  {
   "cell_type": "code",
   "execution_count": null,
   "id": "eb073803",
   "metadata": {},
   "outputs": [],
   "source": []
  }
 ],
 "metadata": {
  "kernelspec": {
   "display_name": "Python 3 (ipykernel)",
   "language": "python",
   "name": "python3"
  },
  "language_info": {
   "codemirror_mode": {
    "name": "ipython",
    "version": 3
   },
   "file_extension": ".py",
   "mimetype": "text/x-python",
   "name": "python",
   "nbconvert_exporter": "python",
   "pygments_lexer": "ipython3",
   "version": "3.11.4"
  },
  "varInspector": {
   "cols": {
    "lenName": 16,
    "lenType": 16,
    "lenVar": 40
   },
   "kernels_config": {
    "python": {
     "delete_cmd_postfix": "",
     "delete_cmd_prefix": "del ",
     "library": "var_list.py",
     "varRefreshCmd": "print(var_dic_list())"
    },
    "r": {
     "delete_cmd_postfix": ") ",
     "delete_cmd_prefix": "rm(",
     "library": "var_list.r",
     "varRefreshCmd": "cat(var_dic_list()) "
    }
   },
   "types_to_exclude": [
    "module",
    "function",
    "builtin_function_or_method",
    "instance",
    "_Feature"
   ],
   "window_display": false
  }
 },
 "nbformat": 4,
 "nbformat_minor": 5
}
