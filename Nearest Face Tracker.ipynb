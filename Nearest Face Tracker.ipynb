{
 "cells": [
  {
   "cell_type": "code",
   "execution_count": 7,
   "id": "25f52829",
   "metadata": {},
   "outputs": [],
   "source": [
    "\"\"\" This module draw rectangle around the nearest face that would be detected and follow it \"\"\"\n",
    "\n",
    "import cv2\n",
    "import dlib\n",
    "import numpy as np\n",
    "\n",
    "class FaceTracker:\n",
    "    def __init__(self):\n",
    "        self.video = cv2.VideoCapture(0)\n",
    "        self.video.set(3, 1080)  # Set width\n",
    "        self.video.set(4, 1920)  # Set height\n",
    "        self.face_detector = dlib.get_frontal_face_detector()  # dlib's function\n",
    "        self.current_tracked_face = None  # Face hasn't been traced yet\n",
    "\n",
    "    def find_nearest_face(self, faces):\n",
    "        \"\"\"\n",
    "        This method calculates squares of each face detected by webcam\n",
    "        :param faces: Each face that would be detected\n",
    "        :return: Value that has the biggest square among other in list\n",
    "        \"\"\"\n",
    "        squares = [abs(face.right() - face.left()) * abs(face.bottom() - face.top()) for face in faces]\n",
    "        nearest_idx = np.argmax(squares)\n",
    "        return faces[nearest_idx]\n",
    "\n",
    "    def draw_rectangle(self, face, image):\n",
    "        \"\"\"\n",
    "        This function draws rectangle around the nearest face that has the biggest square around it\n",
    "        :param face: List with coordinates around face\n",
    "        :param image: Object that store an imageq\n",
    "        :return: None\n",
    "        \"\"\"\n",
    "        x, y, w, h = face.left(), face.top(), face.width(), face.height()\n",
    "        cv2.rectangle(img=image, pt1=(x, y), pt2=(x + w, y + h), color=(0, 255, 0), thickness=2)\n",
    "        cv2.imshow(winname='Face Tracking', mat=image)\n",
    "\n",
    "    def track_nearest_face(self):\n",
    "        try:\n",
    "            while True:\n",
    "                ret, frame = self.video.read()\n",
    "                if not ret:\n",
    "                    break\n",
    "\n",
    "                gray = cv2.cvtColor(frame, cv2.COLOR_BGR2GRAY)\n",
    "                faces = self.face_detector(gray)\n",
    "                # while True:\n",
    "                if len(faces) > 0:\n",
    "                    nearest_face = self.find_nearest_face(faces)\n",
    "                    if self.current_tracked_face is None:  # The face hasn't been tracked yet\n",
    "                        self.current_tracked_face = nearest_face\n",
    "                    else:\n",
    "                        tracked_x, tracked_y, _, _ = self.current_tracked_face.left(), self.current_tracked_face.top(), self.current_tracked_face.width(), self.current_tracked_face.height()\n",
    "                        new_x, new_y, _, _ = nearest_face.left(), nearest_face.top(), nearest_face.width(), nearest_face.height()\n",
    "                        distance = np.sqrt((tracked_x - new_x)**2 + (tracked_y - new_y)**2)\n",
    "                        if distance < 100:  # Adjust this threshold as needed\n",
    "                            self.current_tracked_face = nearest_face\n",
    "\n",
    "                    self.draw_rectangle(self.current_tracked_face, frame)\n",
    "                elif len(faces) == 0:\n",
    "                    cv2.imshow('Face Tracking', frame)\n",
    "                    \n",
    "                if cv2.waitKey(1) & 0xFF == ord('q'):\n",
    "                    break\n",
    "        except Exception as e:\n",
    "            print(f'Exception: {e}')\n",
    "        finally:\n",
    "            self.video.release()\n",
    "            cv2.destroyAllWindows()\n",
    "\n",
    "            \n",
    "if __name__ == '__main__':\n",
    "    tracker = FaceTracker()\n",
    "    tracker.track_nearest_face()"
   ]
  }
 ],
 "metadata": {
  "kernelspec": {
   "display_name": "Python 3 (ipykernel)",
   "language": "python",
   "name": "python3"
  },
  "language_info": {
   "codemirror_mode": {
    "name": "ipython",
    "version": 3
   },
   "file_extension": ".py",
   "mimetype": "text/x-python",
   "name": "python",
   "nbconvert_exporter": "python",
   "pygments_lexer": "ipython3",
   "version": "3.11.4"
  },
  "varInspector": {
   "cols": {
    "lenName": 16,
    "lenType": 16,
    "lenVar": 40
   },
   "kernels_config": {
    "python": {
     "delete_cmd_postfix": "",
     "delete_cmd_prefix": "del ",
     "library": "var_list.py",
     "varRefreshCmd": "print(var_dic_list())"
    },
    "r": {
     "delete_cmd_postfix": ") ",
     "delete_cmd_prefix": "rm(",
     "library": "var_list.r",
     "varRefreshCmd": "cat(var_dic_list()) "
    }
   },
   "types_to_exclude": [
    "module",
    "function",
    "builtin_function_or_method",
    "instance",
    "_Feature"
   ],
   "window_display": false
  }
 },
 "nbformat": 4,
 "nbformat_minor": 5
}
