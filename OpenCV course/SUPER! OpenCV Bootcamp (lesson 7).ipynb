{
 "cells": [
  {
   "cell_type": "code",
   "execution_count": 1,
   "id": "6a05cdf5",
   "metadata": {},
   "outputs": [],
   "source": [
    "import cv2\n",
    "import numpy as np"
   ]
  },
  {
   "cell_type": "code",
   "execution_count": 2,
   "id": "45895021",
   "metadata": {},
   "outputs": [],
   "source": [
    "# Constants\n",
    "PREVIEW = 0\n",
    "BLUR = 1  # Blurring filter\n",
    "FEATURES = 2  # Corner feature detector\n",
    "CANNY = 3  # Canny edge detector"
   ]
  },
  {
   "cell_type": "code",
   "execution_count": 3,
   "id": "a9d162f4",
   "metadata": {},
   "outputs": [],
   "source": [
    "# Swith on the camera\n",
    "feature_params = dict(\n",
    "    maxCorners=500,\n",
    "    qualityLevel=0.2,\n",
    "    minDistance=15,\n",
    "    blockSize=9\n",
    ")\n",
    "\n",
    "image_filter = PREVIEW  # By default\n",
    "alive = True  # Camera is working\n",
    "\n",
    "win_name = 'Camera Filters'\n",
    "cv2.namedWindow(win_name, flags=cv2.WINDOW_NORMAL)\n",
    "result = None\n",
    "source = cv2.VideoCapture(0)\n",
    "\n",
    "while alive:\n",
    "    has_frame, frame = source.read()\n",
    "    if not has_frame:\n",
    "        break\n",
    "        \n",
    "    frame = cv2.flip(src=frame, flipCode=1)\n",
    "    if image_filter == PREVIEW:\n",
    "        result = frame\n",
    "    elif image_filter == CANNY:\n",
    "        result = cv2.Canny(image=frame, threshold1=50, threshold2=50)\n",
    "    elif image_filter == BLUR:\n",
    "        result = cv2.blur(src=frame, ksize=(13, 13))\n",
    "    elif image_filter == FEATURES:\n",
    "        result = frame\n",
    "        frame_gray = cv2.cvtColor(src=frame, code=cv2.COLOR_BGR2GRAY)\n",
    "        corners = cv2.goodFeaturesToTrack(image=frame_gray, **feature_params)\n",
    "        if corners is not None:\n",
    "            # Draw circles around corners\n",
    "            for x, y in np.float32(corners).reshape(-1, 2):\n",
    "                cv2.circle(img=result, center=(int(x), int(y)), radius=10, color=(0, 255, 0), thickness=1)\n",
    "                \n",
    "    cv2.imshow(win_name, mat=result)\n",
    "    key = cv2.waitKey(1)\n",
    "    if key == ord('Q') or key == ord('q'):\n",
    "        alive = False\n",
    "    elif key == ord('C') or key == ord('c'):\n",
    "        image_filter = CANNY\n",
    "    elif key == ord('B') or key == ord('b'):\n",
    "        image_filter = BLUR\n",
    "    elif key == ord('F') or key == ord('f'):\n",
    "        image_filter = FEATURES\n",
    "    elif key == ord('P') or key == ord('p'):\n",
    "        image_filter = PREVIEW\n",
    "\n",
    "source.release()\n",
    "cv2.destroyWindow(win_name)"
   ]
  },
  {
   "cell_type": "markdown",
   "id": "3ccbf603",
   "metadata": {},
   "source": [
    "# [OpenCV – namedWindow()](https://www.geeksforgeeks.org/python-opencv-namedwindow-function/)"
   ]
  },
  {
   "cell_type": "markdown",
   "id": "f28c36b1",
   "metadata": {},
   "source": [
    "# [cv.goodFeaturesToTrack()](https://docs.opencv.org/3.4/d4/d8c/tutorial_py_shi_tomasi.html)"
   ]
  }
 ],
 "metadata": {
  "kernelspec": {
   "display_name": "Python 3 (ipykernel)",
   "language": "python",
   "name": "python3"
  },
  "language_info": {
   "codemirror_mode": {
    "name": "ipython",
    "version": 3
   },
   "file_extension": ".py",
   "mimetype": "text/x-python",
   "name": "python",
   "nbconvert_exporter": "python",
   "pygments_lexer": "ipython3",
   "version": "3.11.4"
  },
  "varInspector": {
   "cols": {
    "lenName": 16,
    "lenType": 16,
    "lenVar": 40
   },
   "kernels_config": {
    "python": {
     "delete_cmd_postfix": "",
     "delete_cmd_prefix": "del ",
     "library": "var_list.py",
     "varRefreshCmd": "print(var_dic_list())"
    },
    "r": {
     "delete_cmd_postfix": ") ",
     "delete_cmd_prefix": "rm(",
     "library": "var_list.r",
     "varRefreshCmd": "cat(var_dic_list()) "
    }
   },
   "types_to_exclude": [
    "module",
    "function",
    "builtin_function_or_method",
    "instance",
    "_Feature"
   ],
   "window_display": false
  }
 },
 "nbformat": 4,
 "nbformat_minor": 5
}
